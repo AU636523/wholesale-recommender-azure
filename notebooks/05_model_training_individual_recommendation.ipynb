{
 "cells": [
  {
   "cell_type": "markdown",
   "id": "fc1b9ea3",
   "metadata": {},
   "source": [
    "# Model Training"
   ]
  },
  {
   "cell_type": "markdown",
   "id": "03dac5ce",
   "metadata": {},
   "source": [
    "This notebook will train the models: \n",
    "\n",
    "1) A model to recommend product categories based on customer clusters' history"
   ]
  },
  {
   "cell_type": "markdown",
   "id": "9ac79075",
   "metadata": {
    "vscode": {
     "languageId": "plaintext"
    }
   },
   "source": [
    "## Imports"
   ]
  },
  {
   "cell_type": "code",
   "execution_count": 1,
   "id": "a0a56be6",
   "metadata": {},
   "outputs": [],
   "source": [
    "import os\n",
    "\n",
    "# ETL and Data Manipulation\n",
    "from pyspark.sql import SparkSession\n",
    "\n",
    "# Matrix Factorization\n",
    "from pyspark.ml.recommendation import ALS"
   ]
  },
  {
   "cell_type": "code",
   "execution_count": 2,
   "id": "e3c9ce4e",
   "metadata": {},
   "outputs": [],
   "source": [
    "# Create local Spark session\n",
    "spark = SparkSession.builder \\\n",
    "    .appName(\"LocalSparkForTesting\") \\\n",
    "    .master(\"local[*]\") \\\n",
    "    .getOrCreate()"
   ]
  },
  {
   "cell_type": "markdown",
   "id": "5dec7577",
   "metadata": {},
   "source": [
    "## Load data"
   ]
  },
  {
   "cell_type": "code",
   "execution_count": 8,
   "id": "82e80540",
   "metadata": {},
   "outputs": [],
   "source": [
    "DATA_PATH = os.path.join('/sparkdata/wholesale-recommender','processed')\n",
    "\n",
    "# Customers with features\n",
    "customers = spark.read.parquet(os.path.join(DATA_PATH, \"customers_features\"))\n",
    "\n",
    "# Interactions\n",
    "interactions = spark.read.parquet(os.path.join(DATA_PATH, \"interactions\"))"
   ]
  },
  {
   "cell_type": "markdown",
   "id": "bf549792",
   "metadata": {},
   "source": [
    "## Prepare data\n",
    "\n",
    "Based on your history, you might like..\n",
    " \n",
    "Only for customers with >10 orders"
   ]
  },
  {
   "cell_type": "markdown",
   "id": "29a4cb17",
   "metadata": {},
   "source": [
    "### Get customers with >10 orders"
   ]
  },
  {
   "cell_type": "code",
   "execution_count": 9,
   "id": "3c013c2b",
   "metadata": {},
   "outputs": [],
   "source": [
    "# Filter customers with >10 distinct orders\n",
    "active_customers = customers.filter(\"order_count > 10\").withColumnRenamed(\"Customer ID\", \"customer_id\")\n",
    "\n",
    "# Filter interactions\n",
    "interactions_active = interactions.join(active_customers, on=\"customer_id\", how=\"inner\")"
   ]
  },
  {
   "cell_type": "markdown",
   "id": "2bbd83f3",
   "metadata": {},
   "source": [
    "## Train ALS Model"
   ]
  },
  {
   "cell_type": "code",
   "execution_count": 10,
   "id": "b02256db",
   "metadata": {},
   "outputs": [],
   "source": [
    "als = ALS(\n",
    "    userCol=\"customer_index\",\n",
    "    itemCol=\"product_index\",\n",
    "    ratingCol=\"rating\",\n",
    "    implicitPrefs=True,         \n",
    "    coldStartStrategy=\"drop\",   # Avoid NaNs in output\n",
    "    rank=10,\n",
    "    maxIter=10,\n",
    "    regParam=0.1\n",
    ")\n",
    "\n",
    "als_model = als.fit(interactions_active)"
   ]
  },
  {
   "cell_type": "markdown",
   "id": "6417bac4",
   "metadata": {},
   "source": [
    "## Save"
   ]
  },
  {
   "cell_type": "code",
   "execution_count": 13,
   "id": "57cf7c9b",
   "metadata": {},
   "outputs": [],
   "source": [
    "MODEL_PATH = os.path.join('/sparkdata/wholesale-recommender','models','individual_cust_rec')\n",
    "\n",
    "# Save\n",
    "als_model.save(MODEL_PATH)"
   ]
  }
 ],
 "metadata": {
  "kernelspec": {
   "display_name": "Python 3 (ipykernel)",
   "language": "python",
   "name": "python3"
  }
 },
 "nbformat": 4,
 "nbformat_minor": 5
}
