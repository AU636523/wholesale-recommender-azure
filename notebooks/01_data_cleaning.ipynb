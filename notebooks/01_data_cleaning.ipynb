{
 "cells": [
  {
   "cell_type": "markdown",
   "id": "0b38fa6d",
   "metadata": {},
   "source": [
    "# Data Cleaning"
   ]
  },
  {
   "cell_type": "markdown",
   "id": "c551748c",
   "metadata": {},
   "source": [
    "This notebook provides necessary steps for cleaning the data"
   ]
  },
  {
   "cell_type": "markdown",
   "id": "7c6b175a",
   "metadata": {},
   "source": [
    "## Imports"
   ]
  },
  {
   "cell_type": "code",
   "execution_count": 1,
   "id": "0b4fb548",
   "metadata": {},
   "outputs": [],
   "source": [
    "import os\n",
    "\n",
    "# ETL and Data Manipulation\n",
    "from pyspark.sql import SparkSession\n",
    "from pyspark.sql.functions import col, lower, to_date, expr"
   ]
  },
  {
   "cell_type": "markdown",
   "id": "1ba03b92",
   "metadata": {},
   "source": [
    "## Loading Data"
   ]
  },
  {
   "cell_type": "code",
   "execution_count": 3,
   "id": "9570e3a0",
   "metadata": {},
   "outputs": [],
   "source": [
    "spark = SparkSession.builder \\\n",
    "        .appName(\"hello\") \\\n",
    "        .master(\"local[2]\") \\\n",
    "        .getOrCreate()"
   ]
  },
  {
   "cell_type": "code",
   "execution_count": null,
   "id": "0bd3ebe0",
   "metadata": {},
   "outputs": [],
   "source": [
    "# Load data from CSV\n",
    "DATA_PATH = \"/sparkdata/wholesale-recommender\"\n",
    "\n",
    "order_lines = spark.read.option(\"header\", True).option(\"inferSchema\", True).csv(f\"{DATA_PATH}/orders.csv\")\n",
    "products = spark.read.option(\"header\", True).option(\"inferSchema\", True).csv(f\"{DATA_PATH}/product-supplier.csv\")"
   ]
  },
  {
   "cell_type": "markdown",
   "id": "3c3a3a3d",
   "metadata": {},
   "source": [
    "## Data Cleaning"
   ]
  },
  {
   "cell_type": "markdown",
   "id": "69d30fb0",
   "metadata": {},
   "source": [
    "#### Datetime columns"
   ]
  },
  {
   "cell_type": "code",
   "execution_count": 7,
   "id": "06154aef",
   "metadata": {},
   "outputs": [],
   "source": [
    "# Convert date columns\n",
    "order_lines = order_lines.withColumn(\n",
    "    \"Date Order was placed\", to_date(col(\"Date Order was placed\"), \"dd-MMM-yy\")\n",
    ").withColumn(\n",
    "    \"Delivery Date\", to_date(col(\"Delivery Date\"), \"dd-MMM-yy\")\n",
    ")"
   ]
  },
  {
   "cell_type": "markdown",
   "id": "ea81ebec",
   "metadata": {},
   "source": [
    "#### Customer Status column"
   ]
  },
  {
   "cell_type": "code",
   "execution_count": 8,
   "id": "a595560a",
   "metadata": {},
   "outputs": [],
   "source": [
    "order_lines = order_lines.withColumn(\n",
    "    \"Customer Status\", lower(col(\"Customer Status\").cast(\"string\"))\n",
    ")"
   ]
  },
  {
   "cell_type": "markdown",
   "id": "1b020cad",
   "metadata": {},
   "source": [
    "#### Missing columns"
   ]
  },
  {
   "cell_type": "code",
   "execution_count": 9,
   "id": "a5c27172",
   "metadata": {},
   "outputs": [],
   "source": [
    "order_lines = order_lines.withColumn(\n",
    "    \"Retail price Per Unit\",\n",
    "    col(\"Total Retail Price for This Order\") / col(\"Quantity Ordered\")\n",
    ").withColumn(\n",
    "    \"Total Cost price\",\n",
    "    col(\"Quantity Ordered\") * col(\"Cost Price Per Unit\")\n",
    ")"
   ]
  },
  {
   "cell_type": "markdown",
   "id": "16017fff",
   "metadata": {},
   "source": [
    "## Save as parquet"
   ]
  },
  {
   "cell_type": "code",
   "execution_count": 12,
   "id": "d98aba42",
   "metadata": {},
   "outputs": [],
   "source": [
    "# Define absolute path\n",
    "OUTPUT_PATH = os.path.abspath(os.path.join(DATA_PATH, 'cleaned'))\n",
    "\n",
    "# Save to Parquet\n",
    "order_lines.write.mode(\"overwrite\").parquet(os.path.join(OUTPUT_PATH, \"order_lines\"))\n",
    "products.write.mode(\"overwrite\").parquet(os.path.join(OUTPUT_PATH, \"products\"))"
   ]
  }
 ],
 "metadata": {
  "kernelspec": {
   "display_name": "Python 3 (ipykernel)",
   "language": "python",
   "name": "python3"
  },
  "language_info": {
   "codemirror_mode": {
    "name": "ipython",
    "version": 3
   },
   "file_extension": ".py",
   "mimetype": "text/x-python",
   "name": "python",
   "nbconvert_exporter": "python",
   "pygments_lexer": "ipython3",
   "version": "3.11.6"
  }
 },
 "nbformat": 4,
 "nbformat_minor": 5
}
