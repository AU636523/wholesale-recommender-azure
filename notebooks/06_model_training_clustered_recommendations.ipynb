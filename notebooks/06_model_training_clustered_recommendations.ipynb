{
 "cells": [
  {
   "cell_type": "markdown",
   "id": "fc1b9ea3",
   "metadata": {},
   "source": [
    "# Model Training"
   ]
  },
  {
   "cell_type": "markdown",
   "id": "03dac5ce",
   "metadata": {},
   "source": [
    "This notebook will train the models: \n",
    "\n",
    "1) A model to recommend product categories based on customer clusters' history"
   ]
  },
  {
   "cell_type": "markdown",
   "id": "9ac79075",
   "metadata": {
    "vscode": {
     "languageId": "plaintext"
    }
   },
   "source": [
    "## Imports"
   ]
  },
  {
   "cell_type": "code",
   "execution_count": 14,
   "id": "a0a56be6",
   "metadata": {},
   "outputs": [],
   "source": [
    "import os\n",
    "\n",
    "# ETL and Data Manipulation\n",
    "from pyspark.sql import SparkSession\n",
    "from pyspark.ml.feature import StringIndexerModel, StringIndexer\n",
    "\n",
    "# Matrix Factorization\n",
    "from pyspark.ml.recommendation import ALS"
   ]
  },
  {
   "cell_type": "code",
   "execution_count": 15,
   "id": "8408072b",
   "metadata": {},
   "outputs": [],
   "source": [
    "# Create local Spark session\n",
    "spark = SparkSession.builder \\\n",
    "    .appName(\"LocalSparkForTesting\") \\\n",
    "    .master(\"local[*]\") \\\n",
    "    .getOrCreate()"
   ]
  },
  {
   "cell_type": "markdown",
   "id": "5dec7577",
   "metadata": {},
   "source": [
    "## Load data"
   ]
  },
  {
   "cell_type": "code",
   "execution_count": 16,
   "id": "82e80540",
   "metadata": {},
   "outputs": [],
   "source": [
    "DATA_PATH = os.path.join('/sparkdata/wholesale-recommender','processed')\n",
    "\n",
    "# Customers with features\n",
    "customers = spark.read.parquet(os.path.join(DATA_PATH, \"customers_features\"))\n",
    "\n",
    "# Customer clusters\n",
    "customer_clusters = spark.read.parquet(os.path.join(DATA_PATH, \"customer_cluster\"))\n",
    "\n",
    "# Interactions\n",
    "interactions = spark.read.parquet(os.path.join(DATA_PATH, \"interactions\"))"
   ]
  },
  {
   "cell_type": "markdown",
   "id": "bf549792",
   "metadata": {},
   "source": [
    "## Prepare data"
   ]
  },
  {
   "cell_type": "markdown",
   "id": "551137e2",
   "metadata": {},
   "source": [
    "### Add the clusters to the customers"
   ]
  },
  {
   "cell_type": "code",
   "execution_count": 12,
   "id": "ae878f67",
   "metadata": {},
   "outputs": [],
   "source": [
    "# Load customer indexing model\n",
    "MODELS_PATH = os.path.join('/sparkdata/wholesale-recommender','models')\n",
    "\n",
    "customer_model_path = os.path.join(MODELS_PATH, \"customer_indexer_model\")\n",
    "\n",
    "customer_model = StringIndexerModel.load(customer_model_path)\n",
    "\n",
    "# Reindex the customer id's to match the interactions dataframe\n",
    "customer_clusters_indexed = customer_model.transform(customer_clusters)"
   ]
  },
  {
   "cell_type": "markdown",
   "id": "29a4cb17",
   "metadata": {},
   "source": [
    "### One Hot Encode product category"
   ]
  },
  {
   "cell_type": "code",
   "execution_count": 13,
   "id": "55517d2f",
   "metadata": {},
   "outputs": [],
   "source": [
    "MODEL_PATH = os.path.abspath(os.path.join('/sparkdata/wholesale-recommender', 'models'))\n",
    "\n",
    "# Make encoder\n",
    "category_indexer = StringIndexer(inputCol=\"Product Category\", outputCol=\"category_index\")\n",
    "\n",
    "# Perform encoding\n",
    "category_indexer_model = category_indexer.fit(interactions)\n",
    "interactions = category_indexer_model.transform(interactions)\n",
    "\n",
    "# Save for reverse transform later\n",
    "category_indexer_model.write().overwrite().save(os.path.join(MODELS_PATH, \"category_indexer_model\"))"
   ]
  },
  {
   "cell_type": "markdown",
   "id": "9962d62a",
   "metadata": {},
   "source": [
    "## Add customer clusters"
   ]
  },
  {
   "cell_type": "code",
   "execution_count": 29,
   "id": "221179af",
   "metadata": {},
   "outputs": [],
   "source": [
    "# Perform the join\n",
    "interactions_with_customer_clusters = interactions.join(\n",
    "    customer_clusters.withColumnRenamed(\"Customer ID\", \"customer_id\"),\n",
    "    on=\"customer_id\",\n",
    "    how=\"left\"\n",
    ")"
   ]
  },
  {
   "cell_type": "markdown",
   "id": "2bbd83f3",
   "metadata": {},
   "source": [
    "## Train ALS Model"
   ]
  },
  {
   "cell_type": "code",
   "execution_count": 31,
   "id": "b02256db",
   "metadata": {},
   "outputs": [],
   "source": [
    "als = ALS(\n",
    "    userCol=\"cluster\",\n",
    "    itemCol=\"category_index\",\n",
    "    ratingCol=\"rating\",\n",
    "    implicitPrefs=True,         \n",
    "    coldStartStrategy=\"drop\",   # Avoid NaNs in output\n",
    "    rank=10,\n",
    "    maxIter=10,\n",
    "    regParam=0.1\n",
    ")\n",
    "\n",
    "als_model = als.fit(interactions_with_customer_clusters)"
   ]
  },
  {
   "cell_type": "markdown",
   "id": "6417bac4",
   "metadata": {},
   "source": [
    "## Save"
   ]
  },
  {
   "cell_type": "code",
   "execution_count": 32,
   "id": "57cf7c9b",
   "metadata": {},
   "outputs": [],
   "source": [
    "MODEL_PATH = os.path.join('/sparkdata/wholesale-recommender','models','cluster_cat_rec')\n",
    "\n",
    "# Save\n",
    "als_model.save(MODEL_PATH)"
   ]
  }
 ],
 "metadata": {
  "kernelspec": {
   "display_name": "Python 3 (ipykernel)",
   "language": "python",
   "name": "python3"
  },
  "language_info": {
   "codemirror_mode": {
    "name": "ipython",
    "version": 3
   },
   "file_extension": ".py",
   "mimetype": "text/x-python",
   "name": "python",
   "nbconvert_exporter": "python",
   "pygments_lexer": "ipython3",
   "version": "3.11.6"
  }
 },
 "nbformat": 4,
 "nbformat_minor": 5
}
