{
 "cells": [
  {
   "cell_type": "markdown",
   "id": "849d7ab8",
   "metadata": {},
   "source": [
    "# Customer Clustering"
   ]
  },
  {
   "cell_type": "markdown",
   "id": "83d2e210",
   "metadata": {},
   "source": [
    "This notebook performs the customer clustering"
   ]
  },
  {
   "cell_type": "markdown",
   "id": "db0c6029",
   "metadata": {},
   "source": [
    "## Imports"
   ]
  },
  {
   "cell_type": "code",
   "execution_count": 17,
   "id": "24c8361e",
   "metadata": {},
   "outputs": [],
   "source": [
    "import os\n",
    "\n",
    "# ETL and Data Manipulation\n",
    "from pyspark.sql import SparkSession\n",
    "from pyspark.sql.functions import col, lower, to_date, expr\n",
    "from pyspark.ml.feature import VectorAssembler, StandardScaler\n",
    "from pyspark.ml import Pipeline\n",
    "from pyspark.ml.clustering import KMeans\n",
    "from pyspark.sql import functions as F\n",
    "import numpy as np\n",
    "\n",
    "# Visualizations\n",
    "import matplotlib.pyplot as plt\n",
    "import plotly.express as px\n",
    "import plotly.graph_objects as go"
   ]
  },
  {
   "cell_type": "markdown",
   "id": "243e534f",
   "metadata": {},
   "source": [
    "## Load Data"
   ]
  },
  {
   "cell_type": "code",
   "execution_count": 18,
   "id": "8cc01903",
   "metadata": {},
   "outputs": [],
   "source": [
    "spark = SparkSession.builder \\\n",
    "    .appName(\"LocalSparkForTesting\") \\\n",
    "    .master(\"local[1]\") \\\n",
    "    .getOrCreate()"
   ]
  },
  {
   "cell_type": "code",
   "execution_count": 23,
   "id": "0afcdb20",
   "metadata": {},
   "outputs": [],
   "source": [
    "DATA_PATH = os.path.abspath(os.path.join('/sparkdata/wholesale-recommender', 'processed'))\n",
    "\n",
    "customer_features  = spark.read.parquet(os.path.join(DATA_PATH, \"customers_features\"))"
   ]
  },
  {
   "cell_type": "markdown",
   "id": "5b71481d",
   "metadata": {},
   "source": [
    "## Clustering Pipeline"
   ]
  },
  {
   "cell_type": "markdown",
   "id": "c946e6a1",
   "metadata": {},
   "source": [
    "### Preprocessing Steps"
   ]
  },
  {
   "cell_type": "code",
   "execution_count": 24,
   "id": "84024bd6",
   "metadata": {},
   "outputs": [],
   "source": [
    "# Define feature columns\n",
    "feature_cols = [col for col in customer_features.columns if col != 'Customer ID']  # Adjust ID column name if needed\n",
    "\n",
    "# Create vector\n",
    "assembler = VectorAssembler(inputCols=feature_cols, outputCol=\"features_vector\")\n",
    "\n",
    "# Apply standard scaling\n",
    "scaler = StandardScaler(inputCol=\"features_vector\", outputCol=\"scaled_features\", withMean=True, withStd=True)"
   ]
  },
  {
   "cell_type": "markdown",
   "id": "14245bcd",
   "metadata": {},
   "source": [
    "### Clustering Steps"
   ]
  },
  {
   "cell_type": "code",
   "execution_count": 25,
   "id": "c447acf0",
   "metadata": {},
   "outputs": [],
   "source": [
    "# Via elbow method in EDA\n",
    "K=14"
   ]
  },
  {
   "cell_type": "code",
   "execution_count": 26,
   "id": "06152d22",
   "metadata": {},
   "outputs": [],
   "source": [
    "# KMeans clustering\n",
    "kmeans = KMeans(featuresCol=\"scaled_features\", predictionCol=\"cluster\", k=K, seed=42)"
   ]
  },
  {
   "cell_type": "markdown",
   "id": "953bc3e3",
   "metadata": {},
   "source": [
    "## Run pipeline"
   ]
  },
  {
   "cell_type": "code",
   "execution_count": 27,
   "id": "b221d22b",
   "metadata": {},
   "outputs": [],
   "source": [
    "# Build pipeline\n",
    "pipeline = Pipeline(stages=[assembler, scaler, kmeans])\n",
    "\n",
    "# Execute\n",
    "model = pipeline.fit(customer_features)\n",
    "clustered_customers = model.transform(customer_features)"
   ]
  },
  {
   "cell_type": "markdown",
   "id": "9ebadc34",
   "metadata": {},
   "source": [
    "## Save"
   ]
  },
  {
   "cell_type": "code",
   "execution_count": null,
   "id": "4b80f91e",
   "metadata": {},
   "outputs": [],
   "source": [
    "OUTPUT_PATH = os.path.abspath(DATA_PATH)\n",
    "\n",
    "clusters_df = clustered_customers.select(\"Customer ID\", \"cluster\")\n",
    "clusters_df.write.mode(\"overwrite\").parquet(os.path.join(OUTPUT_PATH, \"customer_cluster\"))"
   ]
  }
 ],
 "metadata": {
  "kernelspec": {
   "display_name": "Python 3 (ipykernel)",
   "language": "python",
   "name": "python3"
  },
  "language_info": {
   "codemirror_mode": {
    "name": "ipython",
    "version": 3
   },
   "file_extension": ".py",
   "mimetype": "text/x-python",
   "name": "python",
   "nbconvert_exporter": "python",
   "pygments_lexer": "ipython3",
   "version": "3.11.6"
  }
 },
 "nbformat": 4,
 "nbformat_minor": 5
}
