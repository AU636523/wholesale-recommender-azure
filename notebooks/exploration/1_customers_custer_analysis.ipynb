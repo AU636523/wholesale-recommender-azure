{
 "cells": [
  {
   "cell_type": "markdown",
   "id": "1db699f8",
   "metadata": {},
   "source": [
    "# Customer Cluster Analysis"
   ]
  },
  {
   "cell_type": "markdown",
   "id": "a068820d",
   "metadata": {},
   "source": [
    "In this notebook we explore customer similarities and whether clusters exists"
   ]
  },
  {
   "cell_type": "markdown",
   "id": "35afcb46",
   "metadata": {
    "vscode": {
     "languageId": "plaintext"
    }
   },
   "source": [
    "## Imports"
   ]
  },
  {
   "cell_type": "code",
   "execution_count": 1,
   "id": "93e52ef9",
   "metadata": {},
   "outputs": [],
   "source": [
    "import os, tqdm\n",
    "\n",
    "# ETL and Data Manipulation\n",
    "import pandas as pd\n",
    "import numpy as np\n",
    "\n",
    "# Visualizations\n",
    "import matplotlib.pyplot as plt\n",
    "import plotly.express as px\n",
    "import plotly.graph_objects as go\n",
    "\n",
    "# Preprocessing\n",
    "from sklearn.preprocessing import StandardScaler\n",
    "\n",
    "# Clustering\n",
    "from sklearn.cluster import KMeans\n",
    "\n",
    "# Dimensionality Reduction\n",
    "from sklearn.decomposition import PCA"
   ]
  },
  {
   "cell_type": "markdown",
   "id": "32d9841b",
   "metadata": {},
   "source": [
    "## Load data"
   ]
  },
  {
   "cell_type": "code",
   "execution_count": 2,
   "id": "add0b529",
   "metadata": {},
   "outputs": [],
   "source": [
    "### Load data from CSV\n",
    "DATA_PATH = os.path.join('..', '..', 'data')\n",
    "\n",
    "order_lines = pd.read_csv(os.path.join(DATA_PATH, 'orders.csv'))\n",
    "products = pd.read_csv(os.path.join(DATA_PATH, 'product-supplier.csv'))"
   ]
  },
  {
   "cell_type": "markdown",
   "id": "0062774f",
   "metadata": {},
   "source": [
    "## Data Cleaning"
   ]
  },
  {
   "cell_type": "markdown",
   "id": "3ac953b4",
   "metadata": {},
   "source": [
    "#### Datetime columns"
   ]
  },
  {
   "cell_type": "code",
   "execution_count": 3,
   "id": "139c70fa",
   "metadata": {},
   "outputs": [],
   "source": [
    "date_str_format = '%d-%b-%y'\n",
    "\n",
    "order_lines['Date Order was placed'] = pd.to_datetime(order_lines['Date Order was placed'], format = date_str_format)\n",
    "order_lines['Delivery Date'] = pd.to_datetime(order_lines['Delivery Date'], format = date_str_format)"
   ]
  },
  {
   "cell_type": "markdown",
   "id": "d3786ab5",
   "metadata": {},
   "source": [
    "#### Customer Status column"
   ]
  },
  {
   "cell_type": "code",
   "execution_count": 4,
   "id": "57412cf5",
   "metadata": {},
   "outputs": [],
   "source": [
    "order_lines['Customer Status'] = order_lines['Customer Status'].str.lower().astype(str)"
   ]
  },
  {
   "cell_type": "markdown",
   "id": "690d8fda",
   "metadata": {},
   "source": [
    "#### Missing columns"
   ]
  },
  {
   "cell_type": "code",
   "execution_count": 5,
   "id": "11594eb9",
   "metadata": {},
   "outputs": [],
   "source": [
    "# Adding retail price per unit\n",
    "order_lines['Retail price Per Unit'] = order_lines['Total Retail Price for This Order'] / order_lines['Quantity Ordered']"
   ]
  },
  {
   "cell_type": "code",
   "execution_count": 6,
   "id": "384c5fe5",
   "metadata": {},
   "outputs": [],
   "source": [
    "# Total cost price\n",
    "order_lines['Total Cost price'] = order_lines['Quantity Ordered'] * order_lines['Cost Price Per Unit']"
   ]
  },
  {
   "cell_type": "markdown",
   "id": "1564a580",
   "metadata": {},
   "source": [
    "#### Merging product information"
   ]
  },
  {
   "cell_type": "code",
   "execution_count": 7,
   "id": "223f6f4b",
   "metadata": {},
   "outputs": [],
   "source": [
    "# Merge with product information\n",
    "order_lines_products = order_lines.join(products.set_index('Product ID'), on='Product ID', how='left').set_index('Order ID')"
   ]
  },
  {
   "cell_type": "markdown",
   "id": "892d4316",
   "metadata": {},
   "source": [
    "## Feature engineering"
   ]
  },
  {
   "cell_type": "code",
   "execution_count": 8,
   "id": "f861386b",
   "metadata": {},
   "outputs": [],
   "source": [
    "customers = pd.DataFrame(order_lines['Customer ID'].unique(), columns=['Customer ID']).set_index('Customer ID')"
   ]
  },
  {
   "cell_type": "markdown",
   "id": "71c0ffdf",
   "metadata": {},
   "source": [
    "### Activity-based Features"
   ]
  },
  {
   "cell_type": "markdown",
   "id": "261af392",
   "metadata": {},
   "source": [
    "#### Order Count"
   ]
  },
  {
   "cell_type": "code",
   "execution_count": 9,
   "id": "7dbc40c9",
   "metadata": {},
   "outputs": [],
   "source": [
    "order_counts = order_lines.groupby(['Customer ID']).agg(order_count = ('Order ID','count'))\n",
    "customers = customers.join(order_counts, on='Customer ID', how='left')"
   ]
  },
  {
   "cell_type": "markdown",
   "id": "ff2481cc",
   "metadata": {},
   "source": [
    "#### Months Active"
   ]
  },
  {
   "cell_type": "code",
   "execution_count": 10,
   "id": "edcbb190",
   "metadata": {},
   "outputs": [],
   "source": [
    "# Get first and most recent order dates\n",
    "activity_extremes = order_lines.groupby(['Customer ID']).agg(   first_order = ('Date Order was placed','min'), \n",
    "                                                                most_recent_order = ('Date Order was placed','max'))\n",
    "\n",
    "# Substract\n",
    "activity_extremes['lifetime'] = (activity_extremes['most_recent_order'] - activity_extremes['first_order'])\n",
    "\n",
    "# Get liftetime in months\n",
    "activity_extremes['active_months'] = (activity_extremes['lifetime'].dt.components['days'] / 30)\n",
    "\n",
    "# Merge\n",
    "customers = customers.join(activity_extremes['active_months'], on='Customer ID', how='left')"
   ]
  },
  {
   "cell_type": "markdown",
   "id": "9adc4d8f",
   "metadata": {},
   "source": [
    "#### Avg days between orders"
   ]
  },
  {
   "cell_type": "code",
   "execution_count": 11,
   "id": "2f23e2f3",
   "metadata": {},
   "outputs": [],
   "source": [
    "# For customers with one order, we set the average time between orders to the maximum of customer lifetimes\n",
    "max_customer_lifetime = (customers['active_months'].max() * 30)\n",
    "\n",
    "# Calculate avg. days between orders (with fallback for customers with only one order)\n",
    "customers['avg_days_between_orders'] = customers.apply(lambda x: (x['active_months'] * 30) / x['order_count'] if x['order_count'] > 1 else max_customer_lifetime, axis=1)"
   ]
  },
  {
   "cell_type": "markdown",
   "id": "5b14cf5b",
   "metadata": {},
   "source": [
    "### Monetary Features"
   ]
  },
  {
   "cell_type": "markdown",
   "id": "b801f660",
   "metadata": {},
   "source": [
    "#### Average order value"
   ]
  },
  {
   "cell_type": "code",
   "execution_count": 12,
   "id": "3385d650",
   "metadata": {},
   "outputs": [],
   "source": [
    "avg_order_value = order_lines.groupby(['Customer ID']).agg(avg_order_value = ('Total Cost price', 'mean'))\n",
    "customers = customers.join(avg_order_value, on='Customer ID', how='left')"
   ]
  },
  {
   "cell_type": "markdown",
   "id": "cfbeace3",
   "metadata": {},
   "source": [
    "### Product Diversity"
   ]
  },
  {
   "cell_type": "markdown",
   "id": "74e830dd",
   "metadata": {},
   "source": [
    "#### # Unique Categories bought and Unique Groups bought from"
   ]
  },
  {
   "cell_type": "code",
   "execution_count": 13,
   "id": "354a5eec",
   "metadata": {},
   "outputs": [],
   "source": [
    "n_unique = order_lines_products.groupby(['Customer ID']).agg(n_unique_categories = ('Product Category', 'nunique'),\n",
    "                                                             n_unique_groups = ('Product Group', 'nunique'))\n",
    "\n",
    "customers = customers.join(n_unique, on='Customer ID', how='left')"
   ]
  },
  {
   "cell_type": "markdown",
   "id": "5eec84b8",
   "metadata": {},
   "source": [
    "### Seasonality Profile"
   ]
  },
  {
   "cell_type": "markdown",
   "id": "0cfcf5d9",
   "metadata": {},
   "source": [
    "#### Quarterly Distribution of orders"
   ]
  },
  {
   "cell_type": "code",
   "execution_count": 14,
   "id": "d430fc73",
   "metadata": {},
   "outputs": [],
   "source": [
    "# Get orders by quarter\n",
    "orders_by_quarter = order_lines.set_index('Delivery Date').groupby([pd.Grouper(freq='QE'), 'Customer ID'])\n",
    "\n",
    "# Get sum of orders by quarter\n",
    "quarterly_orders = orders_by_quarter.agg(sum_quarter_orders = ('Total Cost price' , 'sum')).reset_index()\n",
    "\n",
    "# Get quarter as integer from delivery date\n",
    "quarterly_orders['Quarter'] = quarterly_orders['Delivery Date'].dt.quarter\n",
    "\n",
    "# Pivot\n",
    "quarterly_orders_reshaped = quarterly_orders.reset_index().pivot_table(index='Customer ID', columns='Quarter', values='sum_quarter_orders', aggfunc='sum')\n",
    "\n",
    "# Rename\n",
    "quarterly_orders_reshaped.columns = ['Q1', 'Q2', 'Q3', 'Q4']\n",
    "\n",
    "# Fill empty cells\n",
    "quarterly_orders_reshaped = quarterly_orders_reshaped.fillna(0)\n",
    "\n",
    "# Calculate the ratio\n",
    "quarterly_orders_reshaped = quarterly_orders_reshaped.div( quarterly_orders_reshaped.sum(axis=1) , axis=0)\n",
    "\n",
    "# Rename\n",
    "quarterly_orders_reshaped.columns = [c+'_rate' for c in quarterly_orders_reshaped.columns]\n",
    "\n",
    "# Merge\n",
    "customers = customers.join(quarterly_orders_reshaped, on='Customer ID', how='left')"
   ]
  },
  {
   "cell_type": "markdown",
   "id": "27cfa875",
   "metadata": {},
   "source": [
    "### Purchases from categories"
   ]
  },
  {
   "cell_type": "code",
   "execution_count": 15,
   "id": "1ce929a1",
   "metadata": {},
   "outputs": [],
   "source": [
    "# Make hierachical product group names\n",
    "order_lines_products['product_group_cat_name'] = order_lines_products.apply(lambda x: '_'.join([x['Product Line'], x['Product Category']]), axis=1)\n",
    "\n",
    "# Group by customer and product group\n",
    "customer_orders_sum_prod_group = order_lines_products.groupby(['Customer ID', 'product_group_cat_name']).agg(group_sum = ('Total Cost price', 'sum')).reset_index()\n",
    "\n",
    "# Pivot order lines on the groups aggregating sum of orders\n",
    "order_lines_product_groups_agg = customer_orders_sum_prod_group.pivot_table(index='Customer ID', columns='product_group_cat_name', values='group_sum', aggfunc='sum')\n",
    "\n",
    "# Fill Nans with 0\n",
    "order_lines_product_groups_agg = order_lines_product_groups_agg.fillna(0)\n",
    "\n",
    "# Row-wise Normalize\n",
    "order_lines_product_groups_agg = order_lines_product_groups_agg.div( order_lines_product_groups_agg.sum(axis=1) , axis=0)\n",
    "\n",
    "# Add prefix\n",
    "order_lines_product_groups_agg = order_lines_product_groups_agg.add_prefix('category_')\n",
    "\n",
    "# Merge\n",
    "customers = customers.join(order_lines_product_groups_agg, on='Customer ID', how='left')"
   ]
  },
  {
   "cell_type": "markdown",
   "id": "3a62ecc2",
   "metadata": {},
   "source": [
    "## Preprocessing"
   ]
  },
  {
   "cell_type": "markdown",
   "id": "df210df9",
   "metadata": {},
   "source": [
    "### Scaling"
   ]
  },
  {
   "cell_type": "code",
   "execution_count": 16,
   "id": "0f081128",
   "metadata": {},
   "outputs": [],
   "source": [
    "feature_scaler = StandardScaler()\n",
    "X_scaled = feature_scaler.fit_transform(customers)"
   ]
  },
  {
   "cell_type": "markdown",
   "id": "4223fb1a",
   "metadata": {},
   "source": [
    "## Clustering"
   ]
  },
  {
   "cell_type": "markdown",
   "id": "d45e15a2",
   "metadata": {},
   "source": [
    "### Find right amount of clusters (Elbow Method)"
   ]
  },
  {
   "cell_type": "code",
   "execution_count": 17,
   "id": "67efa0b1",
   "metadata": {},
   "outputs": [
    {
     "name": "stderr",
     "output_type": "stream",
     "text": [
      "100%|██████████| 99/99 [00:55<00:00,  1.78it/s]\n"
     ]
    }
   ],
   "source": [
    "inertias = [] # WCSS\n",
    "K = range(1, 100)\n",
    "\n",
    "for k in tqdm.tqdm(K):\n",
    "    kmeans = KMeans(n_clusters=k, random_state=42)\n",
    "    kmeans.fit(X_scaled)\n",
    "    inertias.append((k, kmeans.inertia_))\n",
    "\n",
    "inertias_df = pd.DataFrame(inertias, columns=['K', 'WCSS'])"
   ]
  },
  {
   "cell_type": "code",
   "execution_count": 18,
   "id": "8f5577f8",
   "metadata": {},
   "outputs": [
    {
     "data": {
      "application/vnd.plotly.v1+json": {
       "config": {
        "plotlyServerURL": "https://plot.ly"
       },
       "data": [
        {
         "hovertemplate": "K=%{x}<br>WCSS=%{y}<extra></extra>",
         "legendgroup": "",
         "line": {
          "color": "#636efa",
          "dash": "solid"
         },
         "marker": {
          "symbol": "circle"
         },
         "mode": "lines",
         "name": "",
         "orientation": "v",
         "showlegend": false,
         "type": "scatter",
         "x": {
          "bdata": "AQIDBAUGBwgJCgsMDQ4PEBESExQVFhcYGRobHB0eHyAhIiMkJSYnKCkqKywtLi8wMTIzNDU2Nzg5Ojs8PT4/QEFCQ0RFRkdISUpLTE1OT1BRUlNUVVZXWFlaW1xdXl9gYWJj",
          "dtype": "i1"
         },
         "xaxis": "x",
         "y": {
          "bdata": "DQAAANLOMkFmXR9y174wQau4nPJB4C9BZn1u1w/wLUEC5rc8/qssQWSwem8GECxBwE0QaE/rKUHq4Uc6HUsoQWMq+FBezyZBZiWFnMpaJUEFavR07O8jQbw6fhZ+fCNBd1tilAEdIkED5idoXqEgQVup0LeOaiBBrgyWPZ7wH0HZKuxJmkcfQS4j5rDuRCBBoTH+DpKmH0Ep2wmrQBMdQQylNCNDthxBiO6s5IpIHEFS9zY3ONkbQS4MifkCmhtBZOHzhoP1GkHM9UwVb3saQap4dvnrJRpBEIa0TVN/GUGixsvZVPQYQR2hK3w+pRhB0AmhMClhGEHuv1s11vMXQWD8f4se3BdBZv+Mt5OuF0FjJ2+5XvUWQZfL8DfBzRZBLhrd5sBLFkHlO8awd+oVQZbhOUeLhxVB9vQz9XdVFUF47hHK5AYVQTL9dLFE0hRBlBXpumSgFEH/Gkp9ZAcUQXzu+ChqyxNBxz1Lw3CUE0EkoCVk73MTQUHk9DSGThNByuS+d60KE0Gr6AumLuMSQeREs0ZzsxJBEy49EtZfEkFZ20vjdy0SQU8D1cKyERJBDRwuZBHEEUGOoFk36YkRQRWUyUPaZBFBg0e1N15IEUHd3MbAtR8RQQ0pTNcg+hBBrWTJtynUEEG7bD/ljq0QQe6Cx2SNehBBtLuxQddLEEGm84HnhCAQQdCtzCIcCxBBkWeHend9D0EbThyRo00PQb3KJliM/Q5BSWOE9G/IDkFvIWbSXqcOQVnivlkqTQ5B9VpM27okDkFBBmi8ev4NQerQsUe52w1BGE/18w6XDUEZdv7VqE0NQZ9EIKqwJg1BjrgPz+H2DEGmHA2GvqoMQZG1rdlciAxBecp0aklnDEGVG0y9EEYMQUxO6ohqFQxBgEND7ifmC0HiuUpctsYLQVr24SqQqQtBftUmgjuLC0FOfRg8rD0LQWj2sgjjJAtBV1Je54ARC0G74GUpTvMKQdYLFSsv1wpBaINEdBG7CkFMMDQVHpoKQe4TsVsPfApBRgfLqbyOCkGAAqhATlcKQcsfD4xnHgpB",
          "dtype": "f8"
         },
         "yaxis": "y"
        }
       ],
       "layout": {
        "legend": {
         "tracegroupgap": 0
        },
        "template": {
         "data": {
          "bar": [
           {
            "error_x": {
             "color": "#2a3f5f"
            },
            "error_y": {
             "color": "#2a3f5f"
            },
            "marker": {
             "line": {
              "color": "#E5ECF6",
              "width": 0.5
             },
             "pattern": {
              "fillmode": "overlay",
              "size": 10,
              "solidity": 0.2
             }
            },
            "type": "bar"
           }
          ],
          "barpolar": [
           {
            "marker": {
             "line": {
              "color": "#E5ECF6",
              "width": 0.5
             },
             "pattern": {
              "fillmode": "overlay",
              "size": 10,
              "solidity": 0.2
             }
            },
            "type": "barpolar"
           }
          ],
          "carpet": [
           {
            "aaxis": {
             "endlinecolor": "#2a3f5f",
             "gridcolor": "white",
             "linecolor": "white",
             "minorgridcolor": "white",
             "startlinecolor": "#2a3f5f"
            },
            "baxis": {
             "endlinecolor": "#2a3f5f",
             "gridcolor": "white",
             "linecolor": "white",
             "minorgridcolor": "white",
             "startlinecolor": "#2a3f5f"
            },
            "type": "carpet"
           }
          ],
          "choropleth": [
           {
            "colorbar": {
             "outlinewidth": 0,
             "ticks": ""
            },
            "type": "choropleth"
           }
          ],
          "contour": [
           {
            "colorbar": {
             "outlinewidth": 0,
             "ticks": ""
            },
            "colorscale": [
             [
              0,
              "#0d0887"
             ],
             [
              0.1111111111111111,
              "#46039f"
             ],
             [
              0.2222222222222222,
              "#7201a8"
             ],
             [
              0.3333333333333333,
              "#9c179e"
             ],
             [
              0.4444444444444444,
              "#bd3786"
             ],
             [
              0.5555555555555556,
              "#d8576b"
             ],
             [
              0.6666666666666666,
              "#ed7953"
             ],
             [
              0.7777777777777778,
              "#fb9f3a"
             ],
             [
              0.8888888888888888,
              "#fdca26"
             ],
             [
              1,
              "#f0f921"
             ]
            ],
            "type": "contour"
           }
          ],
          "contourcarpet": [
           {
            "colorbar": {
             "outlinewidth": 0,
             "ticks": ""
            },
            "type": "contourcarpet"
           }
          ],
          "heatmap": [
           {
            "colorbar": {
             "outlinewidth": 0,
             "ticks": ""
            },
            "colorscale": [
             [
              0,
              "#0d0887"
             ],
             [
              0.1111111111111111,
              "#46039f"
             ],
             [
              0.2222222222222222,
              "#7201a8"
             ],
             [
              0.3333333333333333,
              "#9c179e"
             ],
             [
              0.4444444444444444,
              "#bd3786"
             ],
             [
              0.5555555555555556,
              "#d8576b"
             ],
             [
              0.6666666666666666,
              "#ed7953"
             ],
             [
              0.7777777777777778,
              "#fb9f3a"
             ],
             [
              0.8888888888888888,
              "#fdca26"
             ],
             [
              1,
              "#f0f921"
             ]
            ],
            "type": "heatmap"
           }
          ],
          "histogram": [
           {
            "marker": {
             "pattern": {
              "fillmode": "overlay",
              "size": 10,
              "solidity": 0.2
             }
            },
            "type": "histogram"
           }
          ],
          "histogram2d": [
           {
            "colorbar": {
             "outlinewidth": 0,
             "ticks": ""
            },
            "colorscale": [
             [
              0,
              "#0d0887"
             ],
             [
              0.1111111111111111,
              "#46039f"
             ],
             [
              0.2222222222222222,
              "#7201a8"
             ],
             [
              0.3333333333333333,
              "#9c179e"
             ],
             [
              0.4444444444444444,
              "#bd3786"
             ],
             [
              0.5555555555555556,
              "#d8576b"
             ],
             [
              0.6666666666666666,
              "#ed7953"
             ],
             [
              0.7777777777777778,
              "#fb9f3a"
             ],
             [
              0.8888888888888888,
              "#fdca26"
             ],
             [
              1,
              "#f0f921"
             ]
            ],
            "type": "histogram2d"
           }
          ],
          "histogram2dcontour": [
           {
            "colorbar": {
             "outlinewidth": 0,
             "ticks": ""
            },
            "colorscale": [
             [
              0,
              "#0d0887"
             ],
             [
              0.1111111111111111,
              "#46039f"
             ],
             [
              0.2222222222222222,
              "#7201a8"
             ],
             [
              0.3333333333333333,
              "#9c179e"
             ],
             [
              0.4444444444444444,
              "#bd3786"
             ],
             [
              0.5555555555555556,
              "#d8576b"
             ],
             [
              0.6666666666666666,
              "#ed7953"
             ],
             [
              0.7777777777777778,
              "#fb9f3a"
             ],
             [
              0.8888888888888888,
              "#fdca26"
             ],
             [
              1,
              "#f0f921"
             ]
            ],
            "type": "histogram2dcontour"
           }
          ],
          "mesh3d": [
           {
            "colorbar": {
             "outlinewidth": 0,
             "ticks": ""
            },
            "type": "mesh3d"
           }
          ],
          "parcoords": [
           {
            "line": {
             "colorbar": {
              "outlinewidth": 0,
              "ticks": ""
             }
            },
            "type": "parcoords"
           }
          ],
          "pie": [
           {
            "automargin": true,
            "type": "pie"
           }
          ],
          "scatter": [
           {
            "fillpattern": {
             "fillmode": "overlay",
             "size": 10,
             "solidity": 0.2
            },
            "type": "scatter"
           }
          ],
          "scatter3d": [
           {
            "line": {
             "colorbar": {
              "outlinewidth": 0,
              "ticks": ""
             }
            },
            "marker": {
             "colorbar": {
              "outlinewidth": 0,
              "ticks": ""
             }
            },
            "type": "scatter3d"
           }
          ],
          "scattercarpet": [
           {
            "marker": {
             "colorbar": {
              "outlinewidth": 0,
              "ticks": ""
             }
            },
            "type": "scattercarpet"
           }
          ],
          "scattergeo": [
           {
            "marker": {
             "colorbar": {
              "outlinewidth": 0,
              "ticks": ""
             }
            },
            "type": "scattergeo"
           }
          ],
          "scattergl": [
           {
            "marker": {
             "colorbar": {
              "outlinewidth": 0,
              "ticks": ""
             }
            },
            "type": "scattergl"
           }
          ],
          "scattermap": [
           {
            "marker": {
             "colorbar": {
              "outlinewidth": 0,
              "ticks": ""
             }
            },
            "type": "scattermap"
           }
          ],
          "scattermapbox": [
           {
            "marker": {
             "colorbar": {
              "outlinewidth": 0,
              "ticks": ""
             }
            },
            "type": "scattermapbox"
           }
          ],
          "scatterpolar": [
           {
            "marker": {
             "colorbar": {
              "outlinewidth": 0,
              "ticks": ""
             }
            },
            "type": "scatterpolar"
           }
          ],
          "scatterpolargl": [
           {
            "marker": {
             "colorbar": {
              "outlinewidth": 0,
              "ticks": ""
             }
            },
            "type": "scatterpolargl"
           }
          ],
          "scatterternary": [
           {
            "marker": {
             "colorbar": {
              "outlinewidth": 0,
              "ticks": ""
             }
            },
            "type": "scatterternary"
           }
          ],
          "surface": [
           {
            "colorbar": {
             "outlinewidth": 0,
             "ticks": ""
            },
            "colorscale": [
             [
              0,
              "#0d0887"
             ],
             [
              0.1111111111111111,
              "#46039f"
             ],
             [
              0.2222222222222222,
              "#7201a8"
             ],
             [
              0.3333333333333333,
              "#9c179e"
             ],
             [
              0.4444444444444444,
              "#bd3786"
             ],
             [
              0.5555555555555556,
              "#d8576b"
             ],
             [
              0.6666666666666666,
              "#ed7953"
             ],
             [
              0.7777777777777778,
              "#fb9f3a"
             ],
             [
              0.8888888888888888,
              "#fdca26"
             ],
             [
              1,
              "#f0f921"
             ]
            ],
            "type": "surface"
           }
          ],
          "table": [
           {
            "cells": {
             "fill": {
              "color": "#EBF0F8"
             },
             "line": {
              "color": "white"
             }
            },
            "header": {
             "fill": {
              "color": "#C8D4E3"
             },
             "line": {
              "color": "white"
             }
            },
            "type": "table"
           }
          ]
         },
         "layout": {
          "annotationdefaults": {
           "arrowcolor": "#2a3f5f",
           "arrowhead": 0,
           "arrowwidth": 1
          },
          "autotypenumbers": "strict",
          "coloraxis": {
           "colorbar": {
            "outlinewidth": 0,
            "ticks": ""
           }
          },
          "colorscale": {
           "diverging": [
            [
             0,
             "#8e0152"
            ],
            [
             0.1,
             "#c51b7d"
            ],
            [
             0.2,
             "#de77ae"
            ],
            [
             0.3,
             "#f1b6da"
            ],
            [
             0.4,
             "#fde0ef"
            ],
            [
             0.5,
             "#f7f7f7"
            ],
            [
             0.6,
             "#e6f5d0"
            ],
            [
             0.7,
             "#b8e186"
            ],
            [
             0.8,
             "#7fbc41"
            ],
            [
             0.9,
             "#4d9221"
            ],
            [
             1,
             "#276419"
            ]
           ],
           "sequential": [
            [
             0,
             "#0d0887"
            ],
            [
             0.1111111111111111,
             "#46039f"
            ],
            [
             0.2222222222222222,
             "#7201a8"
            ],
            [
             0.3333333333333333,
             "#9c179e"
            ],
            [
             0.4444444444444444,
             "#bd3786"
            ],
            [
             0.5555555555555556,
             "#d8576b"
            ],
            [
             0.6666666666666666,
             "#ed7953"
            ],
            [
             0.7777777777777778,
             "#fb9f3a"
            ],
            [
             0.8888888888888888,
             "#fdca26"
            ],
            [
             1,
             "#f0f921"
            ]
           ],
           "sequentialminus": [
            [
             0,
             "#0d0887"
            ],
            [
             0.1111111111111111,
             "#46039f"
            ],
            [
             0.2222222222222222,
             "#7201a8"
            ],
            [
             0.3333333333333333,
             "#9c179e"
            ],
            [
             0.4444444444444444,
             "#bd3786"
            ],
            [
             0.5555555555555556,
             "#d8576b"
            ],
            [
             0.6666666666666666,
             "#ed7953"
            ],
            [
             0.7777777777777778,
             "#fb9f3a"
            ],
            [
             0.8888888888888888,
             "#fdca26"
            ],
            [
             1,
             "#f0f921"
            ]
           ]
          },
          "colorway": [
           "#636efa",
           "#EF553B",
           "#00cc96",
           "#ab63fa",
           "#FFA15A",
           "#19d3f3",
           "#FF6692",
           "#B6E880",
           "#FF97FF",
           "#FECB52"
          ],
          "font": {
           "color": "#2a3f5f"
          },
          "geo": {
           "bgcolor": "white",
           "lakecolor": "white",
           "landcolor": "#E5ECF6",
           "showlakes": true,
           "showland": true,
           "subunitcolor": "white"
          },
          "hoverlabel": {
           "align": "left"
          },
          "hovermode": "closest",
          "mapbox": {
           "style": "light"
          },
          "paper_bgcolor": "white",
          "plot_bgcolor": "#E5ECF6",
          "polar": {
           "angularaxis": {
            "gridcolor": "white",
            "linecolor": "white",
            "ticks": ""
           },
           "bgcolor": "#E5ECF6",
           "radialaxis": {
            "gridcolor": "white",
            "linecolor": "white",
            "ticks": ""
           }
          },
          "scene": {
           "xaxis": {
            "backgroundcolor": "#E5ECF6",
            "gridcolor": "white",
            "gridwidth": 2,
            "linecolor": "white",
            "showbackground": true,
            "ticks": "",
            "zerolinecolor": "white"
           },
           "yaxis": {
            "backgroundcolor": "#E5ECF6",
            "gridcolor": "white",
            "gridwidth": 2,
            "linecolor": "white",
            "showbackground": true,
            "ticks": "",
            "zerolinecolor": "white"
           },
           "zaxis": {
            "backgroundcolor": "#E5ECF6",
            "gridcolor": "white",
            "gridwidth": 2,
            "linecolor": "white",
            "showbackground": true,
            "ticks": "",
            "zerolinecolor": "white"
           }
          },
          "shapedefaults": {
           "line": {
            "color": "#2a3f5f"
           }
          },
          "ternary": {
           "aaxis": {
            "gridcolor": "white",
            "linecolor": "white",
            "ticks": ""
           },
           "baxis": {
            "gridcolor": "white",
            "linecolor": "white",
            "ticks": ""
           },
           "bgcolor": "#E5ECF6",
           "caxis": {
            "gridcolor": "white",
            "linecolor": "white",
            "ticks": ""
           }
          },
          "title": {
           "x": 0.05
          },
          "xaxis": {
           "automargin": true,
           "gridcolor": "white",
           "linecolor": "white",
           "ticks": "",
           "title": {
            "standoff": 15
           },
           "zerolinecolor": "white",
           "zerolinewidth": 2
          },
          "yaxis": {
           "automargin": true,
           "gridcolor": "white",
           "linecolor": "white",
           "ticks": "",
           "title": {
            "standoff": 15
           },
           "zerolinecolor": "white",
           "zerolinewidth": 2
          }
         }
        },
        "title": {
         "text": "Elbow Method for choosing number of clusters"
        },
        "xaxis": {
         "anchor": "y",
         "domain": [
          0,
          1
         ],
         "title": {
          "text": "K"
         }
        },
        "yaxis": {
         "anchor": "x",
         "domain": [
          0,
          1
         ],
         "title": {
          "text": "WCSS"
         }
        }
       }
      }
     },
     "metadata": {},
     "output_type": "display_data"
    }
   ],
   "source": [
    "px.line(inertias_df, x='K', y='WCSS', title='Elbow Method for choosing number of clusters')"
   ]
  },
  {
   "cell_type": "code",
   "execution_count": 19,
   "id": "26a7f269",
   "metadata": {},
   "outputs": [],
   "source": [
    "K = 14"
   ]
  },
  {
   "cell_type": "markdown",
   "id": "34b67de6",
   "metadata": {},
   "source": [
    "### Assign Clusters"
   ]
  },
  {
   "cell_type": "code",
   "execution_count": 20,
   "id": "444b7cca",
   "metadata": {},
   "outputs": [],
   "source": [
    "final_KMeans = KMeans(n_clusters=K, random_state=42)\n",
    "customers['cluster'] = final_KMeans.fit_predict(X_scaled)"
   ]
  }
 ],
 "metadata": {
  "kernelspec": {
   "display_name": ".venv",
   "language": "python",
   "name": "python3"
  },
  "language_info": {
   "codemirror_mode": {
    "name": "ipython",
    "version": 3
   },
   "file_extension": ".py",
   "mimetype": "text/x-python",
   "name": "python",
   "nbconvert_exporter": "python",
   "pygments_lexer": "ipython3",
   "version": "3.12.10"
  }
 },
 "nbformat": 4,
 "nbformat_minor": 5
}
