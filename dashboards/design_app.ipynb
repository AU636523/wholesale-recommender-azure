{
 "cells": [
  {
   "cell_type": "markdown",
   "id": "f1e2a394",
   "metadata": {},
   "source": [
    "# Design of Plotly Dash App"
   ]
  },
  {
   "cell_type": "code",
   "execution_count": 1,
   "id": "07afa0d1",
   "metadata": {},
   "outputs": [],
   "source": [
    "import dash\n",
    "from dash import html, dcc, Input, Output, State, ctx\n",
    "import dash_bootstrap_components as dbc\n",
    "from dash.exceptions import PreventUpdate"
   ]
  },
  {
   "cell_type": "code",
   "execution_count": 2,
   "id": "d97c9de7",
   "metadata": {},
   "outputs": [],
   "source": [
    "app = dash.Dash(__name__, external_stylesheets=[dbc.themes.BOOTSTRAP])"
   ]
  },
  {
   "cell_type": "code",
   "execution_count": 3,
   "id": "b0f1461a",
   "metadata": {},
   "outputs": [],
   "source": [
    "# Example list of customer IDs for autocomplete\n",
    "CUSTOMER_IDS = [\"CUST001\", \"CUST002\", \"CUST003\", \"CUST004\"]"
   ]
  },
  {
   "cell_type": "code",
   "execution_count": 4,
   "id": "788e7721",
   "metadata": {},
   "outputs": [],
   "source": [
    "\n",
    "app.layout = dbc.Container(fluid=True, children=[\n",
    "    dbc.Row([\n",
    "        # Sidebar\n",
    "        dbc.Col(width=3, children=[\n",
    "            html.H4(\"🔍 Input\"),\n",
    "            html.Label(\"Customer ID\"),\n",
    "            dcc.Dropdown(\n",
    "                id=\"customer-id\",\n",
    "                options=[{\"label\": cid, \"value\": cid} for cid in CUSTOMER_IDS],\n",
    "                placeholder=\"Select or type Customer ID\",\n",
    "                searchable=True,\n",
    "                style={\"width\": \"100%\"}\n",
    "            ),\n",
    "            html.Br(),\n",
    "            html.Label(\"Delivery Date\"),\n",
    "            dcc.DatePickerSingle(\n",
    "                id='delivery-date',\n",
    "                placeholder='Select Delivery Date',\n",
    "                style={\"width\": \"100%\"}\n",
    "            ),\n",
    "            html.Br(), html.Br(),\n",
    "            dbc.Button(\"Get Recommendations\", id=\"search-button\", color=\"primary\", className=\"w-100\"),\n",
    "        ], style={\"background-color\": \"#f8f9fa\", \"padding\": \"20px\", \"height\": \"100vh\"}),\n",
    "\n",
    "        # Results Panel\n",
    "        dbc.Col(width=9, children=[\n",
    "            html.H3(\"🛍️ Recommendations\", className=\"mt-3\"),\n",
    "\n",
    "            dbc.Card([\n",
    "                dbc.CardHeader(\"🔥 Popular Items for Delivery Date\"),\n",
    "                dbc.CardBody(html.Ul(id=\"popular-items\"))\n",
    "            ], className=\"mb-4\"),\n",
    "\n",
    "            dbc.Card([\n",
    "                dbc.CardHeader(\"⭐ Based on Your History, You Might Like\"),\n",
    "                dbc.CardBody(html.Ul(id=\"personal-recs\"))\n",
    "            ], className=\"mb-4\"),\n",
    "\n",
    "            dbc.Card([\n",
    "                dbc.CardHeader(\"🧑‍🤝‍🧑 Similar Customers Also Bought\"),\n",
    "                dbc.CardBody(html.Ul(id=\"similar-customer-recs\"))\n",
    "            ])\n",
    "        ])\n",
    "    ])\n",
    "])\n",
    "\n",
    "# Callback triggered by search button click\n",
    "@app.callback(\n",
    "    Output(\"popular-items\", \"children\"),\n",
    "    Output(\"personal-recs\", \"children\"),\n",
    "    Output(\"similar-customer-recs\", \"children\"),\n",
    "    Input(\"search-button\", \"n_clicks\"),\n",
    "    State(\"customer-id\", \"value\"),\n",
    "    State(\"delivery-date\", \"date\"),\n",
    ")\n",
    "def update_recommendations(n_clicks, customer_id, delivery_date):\n",
    "    if not n_clicks or not customer_id or not delivery_date:\n",
    "        raise PreventUpdate\n",
    "\n",
    "    # Replace this with real logic\n",
    "    dummy_list = lambda title: [html.Li(f\"{title} Product {i+1}\") for i in range(3)]\n",
    "    return (\n",
    "        dummy_list(\"Popular\"),\n",
    "        dummy_list(\"Personalized\"),\n",
    "        dummy_list(\"Similar\")\n",
    "    )"
   ]
  },
  {
   "cell_type": "code",
   "execution_count": 5,
   "id": "ef487d18",
   "metadata": {},
   "outputs": [
    {
     "data": {
      "text/html": [
       "\n",
       "        <iframe\n",
       "            width=\"100%\"\n",
       "            height=\"650\"\n",
       "            src=\"http://127.0.0.1:8050/\"\n",
       "            frameborder=\"0\"\n",
       "            allowfullscreen\n",
       "            \n",
       "        ></iframe>\n",
       "        "
      ],
      "text/plain": [
       "<IPython.lib.display.IFrame at 0x1cd0dd38bc0>"
      ]
     },
     "metadata": {},
     "output_type": "display_data"
    }
   ],
   "source": [
    "if __name__ == \"__main__\":\n",
    "    app.run(debug=True, port=8050)"
   ]
  }
 ],
 "metadata": {
  "kernelspec": {
   "display_name": ".venv",
   "language": "python",
   "name": "python3"
  },
  "language_info": {
   "codemirror_mode": {
    "name": "ipython",
    "version": 3
   },
   "file_extension": ".py",
   "mimetype": "text/x-python",
   "name": "python",
   "nbconvert_exporter": "python",
   "pygments_lexer": "ipython3",
   "version": "3.12.10"
  }
 },
 "nbformat": 4,
 "nbformat_minor": 5
}
